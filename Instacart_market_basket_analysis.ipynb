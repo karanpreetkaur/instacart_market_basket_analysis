{
  "nbformat": 4,
  "nbformat_minor": 0,
  "metadata": {
    "colab": {
      "name": "Instacart market basket analysis.ipynb",
      "provenance": [],
      "authorship_tag": "ABX9TyMTXNS+cFyLNQADMnHSTmgK",
      "include_colab_link": true
    },
    "kernelspec": {
      "name": "python3",
      "display_name": "Python 3"
    },
    "language_info": {
      "name": "python"
    }
  },
  "cells": [
    {
      "cell_type": "markdown",
      "metadata": {
        "id": "view-in-github",
        "colab_type": "text"
      },
      "source": [
        "<a href=\"https://colab.research.google.com/github/karanpreetkaur/instacart_market_basket_analysis/blob/main/Instacart_market_basket_analysis.ipynb\" target=\"_parent\"><img src=\"https://colab.research.google.com/assets/colab-badge.svg\" alt=\"Open In Colab\"/></a>"
      ]
    },
    {
      "cell_type": "code",
      "source": [
        "from google.colab import drive\n",
        "drive.mount(\"/content/gdrive\")"
      ],
      "metadata": {
        "colab": {
          "base_uri": "https://localhost:8080/"
        },
        "id": "erOwqKrto5fV",
        "outputId": "6b26903e-5a13-47b6-c99b-cdcd0f1e7426"
      },
      "execution_count": 203,
      "outputs": [
        {
          "output_type": "stream",
          "name": "stdout",
          "text": [
            "Drive already mounted at /content/gdrive; to attempt to forcibly remount, call drive.mount(\"/content/gdrive\", force_remount=True).\n"
          ]
        }
      ]
    },
    {
      "cell_type": "code",
      "source": [
        "%%capture\n",
        "!sudo apt-get update --fix-missing\n",
        "\n",
        "!apt-get install openjdk-8-jdk-headless -qq > /dev/null\n",
        "\n",
        "!wget -q https://archive.apache.org/dist/spark/spark-3.0.0/spark-3.0.0-bin-hadoop3.2.tgz\n",
        "#!wget -q https://downloads.apache.org/spark/spark-3.0.0/spark-3.0.0-bin-hadoop3.2.tgz\n",
        "\n",
        "!mv spark-3.0.0-bin-hadoop3.2.tgz sparkkk\n",
        "!tar xf sparkkk\n",
        "!pip install -q findspark"
      ],
      "metadata": {
        "id": "dH6zszjvXn5S"
      },
      "execution_count": 204,
      "outputs": []
    },
    {
      "cell_type": "code",
      "source": [
        "import os\n",
        "os.environ[\"JAVA_HOME\"] = \"/usr/lib/jvm/java-8-openjdk-amd64\"\n",
        "os.environ[\"SPARK_HOME\"] = \"/content/spark-3.0.0-bin-hadoop3.2\"\n",
        "\n",
        "import findspark\n",
        "findspark.init()\n",
        "\n",
        "from pyspark.sql import SparkSession\n",
        "spark = SparkSession.builder.master(\"local[*]\").getOrCreate()\n",
        "\n",
        "from pyspark.sql import SparkSession\n",
        "spark = SparkSession \\\n",
        "    .builder \\\n",
        "    .appName('fpgrowth') \\\n",
        "    .getOrCreate()\n",
        "\n",
        "spark   "
      ],
      "metadata": {
        "colab": {
          "base_uri": "https://localhost:8080/",
          "height": 219
        },
        "id": "luywN_O-X4ah",
        "outputId": "5057b420-3795-4367-f12e-b163f7e6569a"
      },
      "execution_count": 205,
      "outputs": [
        {
          "output_type": "execute_result",
          "data": {
            "text/html": [
              "\n",
              "            <div>\n",
              "                <p><b>SparkSession - in-memory</b></p>\n",
              "                \n",
              "        <div>\n",
              "            <p><b>SparkContext</b></p>\n",
              "\n",
              "            <p><a href=\"http://bda749c4996d:4040\">Spark UI</a></p>\n",
              "\n",
              "            <dl>\n",
              "              <dt>Version</dt>\n",
              "                <dd><code>v3.0.0</code></dd>\n",
              "              <dt>Master</dt>\n",
              "                <dd><code>local[*]</code></dd>\n",
              "              <dt>AppName</dt>\n",
              "                <dd><code>pyspark-shell</code></dd>\n",
              "            </dl>\n",
              "        </div>\n",
              "        \n",
              "            </div>\n",
              "        "
            ],
            "text/plain": [
              "<pyspark.sql.session.SparkSession at 0x7fc586d45150>"
            ]
          },
          "metadata": {},
          "execution_count": 205
        }
      ]
    },
    {
      "cell_type": "markdown",
      "source": [
        "### Imports"
      ],
      "metadata": {
        "id": "RCUgNeBvZdsZ"
      }
    },
    {
      "cell_type": "code",
      "source": [
        "from pyspark.sql.functions import when\n",
        "from pyspark.sql.functions import collect_set, col, count\n",
        "from pyspark.sql.functions import size\n",
        "\n",
        "from pyspark.ml.fpm import FPGrowth\n",
        "\n",
        "import altair as alt\n",
        "from wordcloud import WordCloud\n",
        "import matplotlib.pyplot as plt"
      ],
      "metadata": {
        "id": "e5Z9MxrFZcXo"
      },
      "execution_count": 324,
      "outputs": []
    },
    {
      "cell_type": "code",
      "source": [
        "alt.data_transformers.disable_max_rows()"
      ],
      "metadata": {
        "colab": {
          "base_uri": "https://localhost:8080/"
        },
        "id": "7fLOtA7aZkt2",
        "outputId": "899fe4cb-e2c4-4794-ed8d-37321fd24e7b"
      },
      "execution_count": 207,
      "outputs": [
        {
          "output_type": "execute_result",
          "data": {
            "text/plain": [
              "DataTransformerRegistry.enable('default')"
            ]
          },
          "metadata": {},
          "execution_count": 207
        }
      ]
    },
    {
      "cell_type": "markdown",
      "source": [
        "## Market Basket Analysis using Instacart Online Grocery Dataset\n",
        "\n",
        "Which products will an Instacart consumer purchase again?"
      ],
      "metadata": {
        "id": "gd4tpCFpSSnL"
      }
    },
    {
      "cell_type": "code",
      "source": [
        "# Import data in spark dataframes\n",
        "aisles = spark.read.csv(\"/content/gdrive/MyDrive/Market_Basket_Analysis/instacart-market-basket-analysis/aisles.csv/aisles.csv\", header=True)\n",
        "departments = spark.read.csv(\"/content/gdrive/MyDrive/Market_Basket_Analysis/instacart-market-basket-analysis/departments.csv/departments.csv\", header=True)\n",
        "order_products_prior = spark.read.csv(\"/content/gdrive/MyDrive/Market_Basket_Analysis/instacart-market-basket-analysis/order_products__prior.csv/order_products__prior.csv\", header=True)\n",
        "order_products_train = spark.read.csv(\"/content/gdrive/MyDrive/Market_Basket_Analysis/instacart-market-basket-analysis/order_products__train.csv/order_products__train.csv\", header=True)\n",
        "orders = spark.read.csv(\"/content/gdrive/MyDrive/Market_Basket_Analysis/instacart-market-basket-analysis/orders.csv/orders.csv\", header=True)\n",
        "products = spark.read.csv(\"/content/gdrive/MyDrive/Market_Basket_Analysis/instacart-market-basket-analysis/products.csv/products.csv\", header=True)"
      ],
      "metadata": {
        "id": "M9Jl4rc0SQiq"
      },
      "execution_count": 208,
      "outputs": []
    },
    {
      "cell_type": "markdown",
      "source": [
        "# Exploratory Data Analysis\n",
        "\n",
        "\n",
        "\n",
        "### Find busiest day of week"
      ],
      "metadata": {
        "id": "hv-kIl3OVlvW"
      }
    },
    {
      "cell_type": "code",
      "source": [
        "orders = orders.withColumn(\"order_dow\", when(orders['order_dow'] == 0, 'Sunday')\n",
        "                                        .when(orders['order_dow'] == 1, 'Monday')\n",
        "                                        .when(orders['order_dow'] == 2, 'Tuesday')\n",
        "                                        .when(orders['order_dow'] == 3, 'Wednesday')\n",
        "                                        .when(orders['order_dow'] == 4, 'Thursday')\n",
        "                                        .when(orders['order_dow'] == 5, 'Friday')\n",
        "                                        .when(orders['order_dow'] == 6, 'Saturday'))"
      ],
      "metadata": {
        "id": "COKF84xMVq21"
      },
      "execution_count": 209,
      "outputs": []
    },
    {
      "cell_type": "code",
      "source": [
        "orders_dow_count = orders.groupBy('order_dow').count()"
      ],
      "metadata": {
        "id": "4ka58d8JYHPq"
      },
      "execution_count": 210,
      "outputs": []
    },
    {
      "cell_type": "code",
      "source": [
        "orders_dow_count = orders_dow_count.toPandas()"
      ],
      "metadata": {
        "id": "Gg59pIUXZ-AY"
      },
      "execution_count": 211,
      "outputs": []
    },
    {
      "cell_type": "code",
      "source": [
        "alt.Chart(orders_dow_count).encode(x=alt.X('order_dow', sort = '-y', title='Day of week'),\n",
        "                                   y=alt.Y('count', axis = alt.Axis(format = 's'), title='Total order count'), \n",
        "                                   color = 'order_dow').mark_bar().properties(width = 600, height = 400).configure_axis(labelFontSize=12, titleFontSize = 15)\n"
      ],
      "metadata": {
        "colab": {
          "base_uri": "https://localhost:8080/",
          "height": 527
        },
        "id": "BtjPub25eQM4",
        "outputId": "9fa2f0da-32b3-4c3b-8994-ed78f487cd55"
      },
      "execution_count": 218,
      "outputs": [
        {
          "output_type": "execute_result",
          "data": {
            "text/plain": [
              "alt.Chart(...)"
            ],
            "text/html": [
              "\n",
              "<div id=\"altair-viz-a6f69498391d4f25bff1bf79b1d1283d\"></div>\n",
              "<script type=\"text/javascript\">\n",
              "  var VEGA_DEBUG = (typeof VEGA_DEBUG == \"undefined\") ? {} : VEGA_DEBUG;\n",
              "  (function(spec, embedOpt){\n",
              "    let outputDiv = document.currentScript.previousElementSibling;\n",
              "    if (outputDiv.id !== \"altair-viz-a6f69498391d4f25bff1bf79b1d1283d\") {\n",
              "      outputDiv = document.getElementById(\"altair-viz-a6f69498391d4f25bff1bf79b1d1283d\");\n",
              "    }\n",
              "    const paths = {\n",
              "      \"vega\": \"https://cdn.jsdelivr.net/npm//vega@5?noext\",\n",
              "      \"vega-lib\": \"https://cdn.jsdelivr.net/npm//vega-lib?noext\",\n",
              "      \"vega-lite\": \"https://cdn.jsdelivr.net/npm//vega-lite@4.17.0?noext\",\n",
              "      \"vega-embed\": \"https://cdn.jsdelivr.net/npm//vega-embed@6?noext\",\n",
              "    };\n",
              "\n",
              "    function maybeLoadScript(lib, version) {\n",
              "      var key = `${lib.replace(\"-\", \"\")}_version`;\n",
              "      return (VEGA_DEBUG[key] == version) ?\n",
              "        Promise.resolve(paths[lib]) :\n",
              "        new Promise(function(resolve, reject) {\n",
              "          var s = document.createElement('script');\n",
              "          document.getElementsByTagName(\"head\")[0].appendChild(s);\n",
              "          s.async = true;\n",
              "          s.onload = () => {\n",
              "            VEGA_DEBUG[key] = version;\n",
              "            return resolve(paths[lib]);\n",
              "          };\n",
              "          s.onerror = () => reject(`Error loading script: ${paths[lib]}`);\n",
              "          s.src = paths[lib];\n",
              "        });\n",
              "    }\n",
              "\n",
              "    function showError(err) {\n",
              "      outputDiv.innerHTML = `<div class=\"error\" style=\"color:red;\">${err}</div>`;\n",
              "      throw err;\n",
              "    }\n",
              "\n",
              "    function displayChart(vegaEmbed) {\n",
              "      vegaEmbed(outputDiv, spec, embedOpt)\n",
              "        .catch(err => showError(`Javascript Error: ${err.message}<br>This usually means there's a typo in your chart specification. See the javascript console for the full traceback.`));\n",
              "    }\n",
              "\n",
              "    if(typeof define === \"function\" && define.amd) {\n",
              "      requirejs.config({paths});\n",
              "      require([\"vega-embed\"], displayChart, err => showError(`Error loading script: ${err.message}`));\n",
              "    } else {\n",
              "      maybeLoadScript(\"vega\", \"5\")\n",
              "        .then(() => maybeLoadScript(\"vega-lite\", \"4.17.0\"))\n",
              "        .then(() => maybeLoadScript(\"vega-embed\", \"6\"))\n",
              "        .catch(showError)\n",
              "        .then(() => displayChart(vegaEmbed));\n",
              "    }\n",
              "  })({\"config\": {\"view\": {\"continuousWidth\": 400, \"continuousHeight\": 300}, \"axis\": {\"labelFontSize\": 12, \"titleFontSize\": 15}}, \"data\": {\"name\": \"data-9f478247cd2f14f57d059c8aed02d615\"}, \"mark\": \"bar\", \"encoding\": {\"color\": {\"field\": \"order_dow\", \"type\": \"nominal\"}, \"x\": {\"field\": \"order_dow\", \"sort\": \"-y\", \"title\": \"Day of week\", \"type\": \"nominal\"}, \"y\": {\"axis\": {\"format\": \"s\"}, \"field\": \"count\", \"title\": \"Total order count\", \"type\": \"quantitative\"}}, \"height\": 400, \"width\": 600, \"$schema\": \"https://vega.github.io/schema/vega-lite/v4.17.0.json\", \"datasets\": {\"data-9f478247cd2f14f57d059c8aed02d615\": [{\"order_dow\": \"Wednesday\", \"count\": 436972}, {\"order_dow\": \"Tuesday\", \"count\": 467260}, {\"order_dow\": \"Friday\", \"count\": 453368}, {\"order_dow\": \"Thursday\", \"count\": 426339}, {\"order_dow\": \"Saturday\", \"count\": 448761}, {\"order_dow\": \"Monday\", \"count\": 587478}, {\"order_dow\": \"Sunday\", \"count\": 600905}]}}, {\"mode\": \"vega-lite\"});\n",
              "</script>"
            ]
          },
          "metadata": {},
          "execution_count": 218
        }
      ]
    },
    {
      "cell_type": "markdown",
      "source": [
        "## Breakdown of orders by hour of day"
      ],
      "metadata": {
        "id": "nlEOAF3EnVJ8"
      }
    },
    {
      "cell_type": "code",
      "source": [
        "busiest_orders_hours = orders.groupBy('order_hour_of_day').count().toPandas()"
      ],
      "metadata": {
        "id": "Mlaoz_bKnP3z"
      },
      "execution_count": 214,
      "outputs": []
    },
    {
      "cell_type": "code",
      "source": [
        "busiest_orders_hours_line = (alt.Chart(busiest_orders_hours).encode(x = alt.X('order_hour_of_day', \n",
        "                                                                              title='Hour of day (hh)'),\n",
        "                                                                    y = alt.Y('count', axis = alt.Axis(format='s'), \n",
        "                                                                              title = 'Total order count'))\n",
        "                                                            .mark_line()).properties(width = 600, height = 400)\n",
        "(busiest_orders_hours_line + busiest_orders_hours_line.mark_point(color = 'black')).configure_axis(labelFontSize=12, titleFontSize = 15)"
      ],
      "metadata": {
        "colab": {
          "base_uri": "https://localhost:8080/",
          "height": 477
        },
        "id": "hcCCCvr4nne9",
        "outputId": "68d308b5-9e41-4f8b-c641-a5e06421b5a0"
      },
      "execution_count": 215,
      "outputs": [
        {
          "output_type": "execute_result",
          "data": {
            "text/plain": [
              "alt.LayerChart(...)"
            ],
            "text/html": [
              "\n",
              "<div id=\"altair-viz-e3b73c7b8cde4ae28a146e5db4d67f69\"></div>\n",
              "<script type=\"text/javascript\">\n",
              "  var VEGA_DEBUG = (typeof VEGA_DEBUG == \"undefined\") ? {} : VEGA_DEBUG;\n",
              "  (function(spec, embedOpt){\n",
              "    let outputDiv = document.currentScript.previousElementSibling;\n",
              "    if (outputDiv.id !== \"altair-viz-e3b73c7b8cde4ae28a146e5db4d67f69\") {\n",
              "      outputDiv = document.getElementById(\"altair-viz-e3b73c7b8cde4ae28a146e5db4d67f69\");\n",
              "    }\n",
              "    const paths = {\n",
              "      \"vega\": \"https://cdn.jsdelivr.net/npm//vega@5?noext\",\n",
              "      \"vega-lib\": \"https://cdn.jsdelivr.net/npm//vega-lib?noext\",\n",
              "      \"vega-lite\": \"https://cdn.jsdelivr.net/npm//vega-lite@4.17.0?noext\",\n",
              "      \"vega-embed\": \"https://cdn.jsdelivr.net/npm//vega-embed@6?noext\",\n",
              "    };\n",
              "\n",
              "    function maybeLoadScript(lib, version) {\n",
              "      var key = `${lib.replace(\"-\", \"\")}_version`;\n",
              "      return (VEGA_DEBUG[key] == version) ?\n",
              "        Promise.resolve(paths[lib]) :\n",
              "        new Promise(function(resolve, reject) {\n",
              "          var s = document.createElement('script');\n",
              "          document.getElementsByTagName(\"head\")[0].appendChild(s);\n",
              "          s.async = true;\n",
              "          s.onload = () => {\n",
              "            VEGA_DEBUG[key] = version;\n",
              "            return resolve(paths[lib]);\n",
              "          };\n",
              "          s.onerror = () => reject(`Error loading script: ${paths[lib]}`);\n",
              "          s.src = paths[lib];\n",
              "        });\n",
              "    }\n",
              "\n",
              "    function showError(err) {\n",
              "      outputDiv.innerHTML = `<div class=\"error\" style=\"color:red;\">${err}</div>`;\n",
              "      throw err;\n",
              "    }\n",
              "\n",
              "    function displayChart(vegaEmbed) {\n",
              "      vegaEmbed(outputDiv, spec, embedOpt)\n",
              "        .catch(err => showError(`Javascript Error: ${err.message}<br>This usually means there's a typo in your chart specification. See the javascript console for the full traceback.`));\n",
              "    }\n",
              "\n",
              "    if(typeof define === \"function\" && define.amd) {\n",
              "      requirejs.config({paths});\n",
              "      require([\"vega-embed\"], displayChart, err => showError(`Error loading script: ${err.message}`));\n",
              "    } else {\n",
              "      maybeLoadScript(\"vega\", \"5\")\n",
              "        .then(() => maybeLoadScript(\"vega-lite\", \"4.17.0\"))\n",
              "        .then(() => maybeLoadScript(\"vega-embed\", \"6\"))\n",
              "        .catch(showError)\n",
              "        .then(() => displayChart(vegaEmbed));\n",
              "    }\n",
              "  })({\"config\": {\"view\": {\"continuousWidth\": 400, \"continuousHeight\": 300}, \"axis\": {\"labelFontSize\": 12, \"titleFontSize\": 15}}, \"layer\": [{\"mark\": \"line\", \"encoding\": {\"x\": {\"field\": \"order_hour_of_day\", \"title\": \"Hour of day (hh)\", \"type\": \"nominal\"}, \"y\": {\"axis\": {\"format\": \"s\"}, \"field\": \"count\", \"title\": \"Total order count\", \"type\": \"quantitative\"}}, \"height\": 400, \"width\": 600}, {\"mark\": {\"type\": \"point\", \"color\": \"black\"}, \"encoding\": {\"x\": {\"field\": \"order_hour_of_day\", \"title\": \"Hour of day (hh)\", \"type\": \"nominal\"}, \"y\": {\"axis\": {\"format\": \"s\"}, \"field\": \"count\", \"title\": \"Total order count\", \"type\": \"quantitative\"}}, \"height\": 400, \"width\": 600}], \"data\": {\"name\": \"data-b7b0c1c98ade1e4619f524ea2f6b51f6\"}, \"$schema\": \"https://vega.github.io/schema/vega-lite/v4.17.0.json\", \"datasets\": {\"data-b7b0c1c98ade1e4619f524ea2f6b51f6\": [{\"order_hour_of_day\": \"07\", \"count\": 91868}, {\"order_hour_of_day\": \"15\", \"count\": 283639}, {\"order_hour_of_day\": \"11\", \"count\": 284728}, {\"order_hour_of_day\": \"01\", \"count\": 12398}, {\"order_hour_of_day\": \"22\", \"count\": 61468}, {\"order_hour_of_day\": \"16\", \"count\": 272553}, {\"order_hour_of_day\": \"18\", \"count\": 182912}, {\"order_hour_of_day\": \"00\", \"count\": 22758}, {\"order_hour_of_day\": \"17\", \"count\": 228795}, {\"order_hour_of_day\": \"09\", \"count\": 257812}, {\"order_hour_of_day\": \"05\", \"count\": 9569}, {\"order_hour_of_day\": \"19\", \"count\": 140569}, {\"order_hour_of_day\": \"23\", \"count\": 40043}, {\"order_hour_of_day\": \"08\", \"count\": 178201}, {\"order_hour_of_day\": \"03\", \"count\": 5474}, {\"order_hour_of_day\": \"02\", \"count\": 7539}, {\"order_hour_of_day\": \"06\", \"count\": 30529}, {\"order_hour_of_day\": \"20\", \"count\": 104292}, {\"order_hour_of_day\": \"10\", \"count\": 288418}, {\"order_hour_of_day\": \"12\", \"count\": 272841}, {\"order_hour_of_day\": \"04\", \"count\": 5527}, {\"order_hour_of_day\": \"13\", \"count\": 277999}, {\"order_hour_of_day\": \"14\", \"count\": 283042}, {\"order_hour_of_day\": \"21\", \"count\": 78109}]}}, {\"mode\": \"vega-lite\"});\n",
              "</script>"
            ]
          },
          "metadata": {},
          "execution_count": 215
        }
      ]
    },
    {
      "cell_type": "markdown",
      "source": [
        "# Products of Department in reorders"
      ],
      "metadata": {
        "id": "hUAMDw6vD5Zz"
      }
    },
    {
      "cell_type": "code",
      "source": [
        "max_department_product = (order_products_train.join(products, on='product_id', how='inner').join(departments, on='department_id')).select('order_id', 'department', 'reordered')\n",
        "max_department_product = max_department_product.filter(max_department_product.reordered == 1)\n",
        "max_department_product = max_department_product.groupBy('department').count().toPandas()"
      ],
      "metadata": {
        "id": "DI_2ELrVo-xo"
      },
      "execution_count": 216,
      "outputs": []
    },
    {
      "cell_type": "code",
      "source": [
        "(alt.Chart(max_department_product).encode(x = alt.X('department', sort = '-y', title='Department'),\n",
        "                                         y = alt.Y('count', title = 'Product of department in reorders', axis=alt.Axis(format='s')),\n",
        "                                         color = 'department').mark_bar()).properties(width = 600, height = 400).configure_axis(labelFontSize=12, titleFontSize = 15)"
      ],
      "metadata": {
        "colab": {
          "base_uri": "https://localhost:8080/",
          "height": 550
        },
        "id": "9IoWUyPCAmRJ",
        "outputId": "e22268f1-4959-4eeb-a993-8a9ad4393bff"
      },
      "execution_count": 217,
      "outputs": [
        {
          "output_type": "execute_result",
          "data": {
            "text/plain": [
              "alt.Chart(...)"
            ],
            "text/html": [
              "\n",
              "<div id=\"altair-viz-0bf8de37fd2f405aa91bc62af3378db1\"></div>\n",
              "<script type=\"text/javascript\">\n",
              "  var VEGA_DEBUG = (typeof VEGA_DEBUG == \"undefined\") ? {} : VEGA_DEBUG;\n",
              "  (function(spec, embedOpt){\n",
              "    let outputDiv = document.currentScript.previousElementSibling;\n",
              "    if (outputDiv.id !== \"altair-viz-0bf8de37fd2f405aa91bc62af3378db1\") {\n",
              "      outputDiv = document.getElementById(\"altair-viz-0bf8de37fd2f405aa91bc62af3378db1\");\n",
              "    }\n",
              "    const paths = {\n",
              "      \"vega\": \"https://cdn.jsdelivr.net/npm//vega@5?noext\",\n",
              "      \"vega-lib\": \"https://cdn.jsdelivr.net/npm//vega-lib?noext\",\n",
              "      \"vega-lite\": \"https://cdn.jsdelivr.net/npm//vega-lite@4.17.0?noext\",\n",
              "      \"vega-embed\": \"https://cdn.jsdelivr.net/npm//vega-embed@6?noext\",\n",
              "    };\n",
              "\n",
              "    function maybeLoadScript(lib, version) {\n",
              "      var key = `${lib.replace(\"-\", \"\")}_version`;\n",
              "      return (VEGA_DEBUG[key] == version) ?\n",
              "        Promise.resolve(paths[lib]) :\n",
              "        new Promise(function(resolve, reject) {\n",
              "          var s = document.createElement('script');\n",
              "          document.getElementsByTagName(\"head\")[0].appendChild(s);\n",
              "          s.async = true;\n",
              "          s.onload = () => {\n",
              "            VEGA_DEBUG[key] = version;\n",
              "            return resolve(paths[lib]);\n",
              "          };\n",
              "          s.onerror = () => reject(`Error loading script: ${paths[lib]}`);\n",
              "          s.src = paths[lib];\n",
              "        });\n",
              "    }\n",
              "\n",
              "    function showError(err) {\n",
              "      outputDiv.innerHTML = `<div class=\"error\" style=\"color:red;\">${err}</div>`;\n",
              "      throw err;\n",
              "    }\n",
              "\n",
              "    function displayChart(vegaEmbed) {\n",
              "      vegaEmbed(outputDiv, spec, embedOpt)\n",
              "        .catch(err => showError(`Javascript Error: ${err.message}<br>This usually means there's a typo in your chart specification. See the javascript console for the full traceback.`));\n",
              "    }\n",
              "\n",
              "    if(typeof define === \"function\" && define.amd) {\n",
              "      requirejs.config({paths});\n",
              "      require([\"vega-embed\"], displayChart, err => showError(`Error loading script: ${err.message}`));\n",
              "    } else {\n",
              "      maybeLoadScript(\"vega\", \"5\")\n",
              "        .then(() => maybeLoadScript(\"vega-lite\", \"4.17.0\"))\n",
              "        .then(() => maybeLoadScript(\"vega-embed\", \"6\"))\n",
              "        .catch(showError)\n",
              "        .then(() => displayChart(vegaEmbed));\n",
              "    }\n",
              "  })({\"config\": {\"view\": {\"continuousWidth\": 400, \"continuousHeight\": 300}, \"axis\": {\"labelFontSize\": 12, \"titleFontSize\": 15}}, \"data\": {\"name\": \"data-43a69795c611d2fe7698549106e77551\"}, \"mark\": \"bar\", \"encoding\": {\"color\": {\"field\": \"department\", \"type\": \"nominal\"}, \"x\": {\"field\": \"department\", \"sort\": \"-y\", \"title\": \"Department\", \"type\": \"nominal\"}, \"y\": {\"axis\": {\"format\": \"s\"}, \"field\": \"count\", \"title\": \"Product of department in reorders\", \"type\": \"quantitative\"}}, \"height\": 400, \"width\": 600, \"$schema\": \"https://vega.github.io/schema/vega-lite/v4.17.0.json\", \"datasets\": {\"data-43a69795c611d2fe7698549106e77551\": [{\"department\": \"beverages\", \"count\": 75060}, {\"department\": \"meat seafood\", \"count\": 17907}, {\"department\": \"frozen\", \"count\": 56168}, {\"department\": \"deli\", \"count\": 27367}, {\"department\": \"dry goods pasta\", \"count\": 18885}, {\"department\": \"bulk\", \"count\": 786}, {\"department\": \"other\", \"count\": 697}, {\"department\": \"babies\", \"count\": 8084}, {\"department\": \"bakery\", \"count\": 30692}, {\"department\": \"produce\", \"count\": 271886}, {\"department\": \"pantry\", \"count\": 29498}, {\"department\": \"dairy eggs\", \"count\": 146502}, {\"department\": \"canned goods\", \"count\": 22782}, {\"department\": \"personal care\", \"count\": 7271}, {\"department\": \"breakfast\", \"count\": 16864}, {\"department\": \"missing\", \"count\": 3148}, {\"department\": \"pets\", \"count\": 2834}, {\"department\": \"household\", \"count\": 15372}, {\"department\": \"alcohol\", \"count\": 3397}, {\"department\": \"international\", \"count\": 4522}, {\"department\": \"snacks\", \"count\": 69102}]}}, {\"mode\": \"vega-lite\"});\n",
              "</script>"
            ]
          },
          "metadata": {},
          "execution_count": 217
        }
      ]
    },
    {
      "cell_type": "markdown",
      "source": [
        "# Top 10 Popular Reordered Items"
      ],
      "metadata": {
        "id": "6TC37qOLHFaS"
      }
    },
    {
      "cell_type": "code",
      "source": [
        "reorder_products = order_products_train.join(products, on='product_id', how='inner')\n",
        "reorder_products = reorder_products.filter(reorder_products.reordered == 1).select('product_name', 'order_id')\n",
        "reorder_products = reorder_products.groupBy('product_name').count().orderBy('count', ascending = False).limit(20)"
      ],
      "metadata": {
        "id": "2bcywRuZH8kv"
      },
      "execution_count": 328,
      "outputs": []
    },
    {
      "cell_type": "code",
      "source": [
        "reorder_products.show(20, False)"
      ],
      "metadata": {
        "colab": {
          "base_uri": "https://localhost:8080/"
        },
        "id": "1k7BI8fzhrZ2",
        "outputId": "3b29e4ff-8fc8-434d-ce8e-8fe67d50c7cb"
      },
      "execution_count": 329,
      "outputs": [
        {
          "output_type": "stream",
          "name": "stdout",
          "text": [
            "+--------------------------+-----+\n",
            "|product_name              |count|\n",
            "+--------------------------+-----+\n",
            "|Banana                    |16557|\n",
            "|Bag of Organic Bananas    |13362|\n",
            "|Organic Strawberries      |8603 |\n",
            "|Organic Baby Spinach      |8055 |\n",
            "|Organic Avocado           |6226 |\n",
            "|Organic Hass Avocado      |6042 |\n",
            "|Large Lemon               |5923 |\n",
            "|Strawberries              |4786 |\n",
            "|Organic Raspberries       |4279 |\n",
            "|Limes                     |4234 |\n",
            "|Organic Whole Milk        |4174 |\n",
            "|Organic Blueberries       |3384 |\n",
            "|Organic Zucchini          |3266 |\n",
            "|Organic Yellow Onion      |3094 |\n",
            "|Organic Garlic            |3041 |\n",
            "|Organic Cucumber          |3007 |\n",
            "|Seedless Red Grapes       |2869 |\n",
            "|Organic Grape Tomatoes    |2727 |\n",
            "|Sparkling Water Grapefruit|2662 |\n",
            "|Honeycrisp Apple          |2655 |\n",
            "+--------------------------+-----+\n",
            "\n"
          ]
        }
      ]
    },
    {
      "cell_type": "code",
      "source": [
        "reorder_products_top10 = reorder_products.limit(10).toPandas()\n",
        "(alt.Chart(reorder_products_top10).encode(x = alt.Y('product_name', sort = '-y', title = 'Product name'),\n",
        "                                   y = alt.Y('count', title = 'Presence in orders'),\n",
        "                                   color = 'product_name').mark_bar()).properties(width = 600, height = 400).configure_axis(labelFontSize=12, titleFontSize = 15)\n"
      ],
      "metadata": {
        "colab": {
          "base_uri": "https://localhost:8080/",
          "height": 595
        },
        "id": "Rj5UGErdK2Ek",
        "outputId": "fe2ba857-8779-4a27-fe3d-042b6d6e8c13"
      },
      "execution_count": 271,
      "outputs": [
        {
          "output_type": "execute_result",
          "data": {
            "text/plain": [
              "alt.Chart(...)"
            ],
            "text/html": [
              "\n",
              "<div id=\"altair-viz-ac1a2f9365b14e6c9488df4aec153848\"></div>\n",
              "<script type=\"text/javascript\">\n",
              "  var VEGA_DEBUG = (typeof VEGA_DEBUG == \"undefined\") ? {} : VEGA_DEBUG;\n",
              "  (function(spec, embedOpt){\n",
              "    let outputDiv = document.currentScript.previousElementSibling;\n",
              "    if (outputDiv.id !== \"altair-viz-ac1a2f9365b14e6c9488df4aec153848\") {\n",
              "      outputDiv = document.getElementById(\"altair-viz-ac1a2f9365b14e6c9488df4aec153848\");\n",
              "    }\n",
              "    const paths = {\n",
              "      \"vega\": \"https://cdn.jsdelivr.net/npm//vega@5?noext\",\n",
              "      \"vega-lib\": \"https://cdn.jsdelivr.net/npm//vega-lib?noext\",\n",
              "      \"vega-lite\": \"https://cdn.jsdelivr.net/npm//vega-lite@4.17.0?noext\",\n",
              "      \"vega-embed\": \"https://cdn.jsdelivr.net/npm//vega-embed@6?noext\",\n",
              "    };\n",
              "\n",
              "    function maybeLoadScript(lib, version) {\n",
              "      var key = `${lib.replace(\"-\", \"\")}_version`;\n",
              "      return (VEGA_DEBUG[key] == version) ?\n",
              "        Promise.resolve(paths[lib]) :\n",
              "        new Promise(function(resolve, reject) {\n",
              "          var s = document.createElement('script');\n",
              "          document.getElementsByTagName(\"head\")[0].appendChild(s);\n",
              "          s.async = true;\n",
              "          s.onload = () => {\n",
              "            VEGA_DEBUG[key] = version;\n",
              "            return resolve(paths[lib]);\n",
              "          };\n",
              "          s.onerror = () => reject(`Error loading script: ${paths[lib]}`);\n",
              "          s.src = paths[lib];\n",
              "        });\n",
              "    }\n",
              "\n",
              "    function showError(err) {\n",
              "      outputDiv.innerHTML = `<div class=\"error\" style=\"color:red;\">${err}</div>`;\n",
              "      throw err;\n",
              "    }\n",
              "\n",
              "    function displayChart(vegaEmbed) {\n",
              "      vegaEmbed(outputDiv, spec, embedOpt)\n",
              "        .catch(err => showError(`Javascript Error: ${err.message}<br>This usually means there's a typo in your chart specification. See the javascript console for the full traceback.`));\n",
              "    }\n",
              "\n",
              "    if(typeof define === \"function\" && define.amd) {\n",
              "      requirejs.config({paths});\n",
              "      require([\"vega-embed\"], displayChart, err => showError(`Error loading script: ${err.message}`));\n",
              "    } else {\n",
              "      maybeLoadScript(\"vega\", \"5\")\n",
              "        .then(() => maybeLoadScript(\"vega-lite\", \"4.17.0\"))\n",
              "        .then(() => maybeLoadScript(\"vega-embed\", \"6\"))\n",
              "        .catch(showError)\n",
              "        .then(() => displayChart(vegaEmbed));\n",
              "    }\n",
              "  })({\"config\": {\"view\": {\"continuousWidth\": 400, \"continuousHeight\": 300}, \"axis\": {\"labelFontSize\": 12, \"titleFontSize\": 15}}, \"data\": {\"name\": \"data-7f6e9340dd3e68b9be89b7aafa33e8ed\"}, \"mark\": \"bar\", \"encoding\": {\"color\": {\"field\": \"product_name\", \"type\": \"nominal\"}, \"x\": {\"field\": \"product_name\", \"sort\": \"-y\", \"title\": \"Product name\", \"type\": \"nominal\"}, \"y\": {\"field\": \"count\", \"title\": \"Presence in orders\", \"type\": \"quantitative\"}}, \"height\": 400, \"width\": 600, \"$schema\": \"https://vega.github.io/schema/vega-lite/v4.17.0.json\", \"datasets\": {\"data-7f6e9340dd3e68b9be89b7aafa33e8ed\": [{\"product_name\": \"Banana\", \"count\": 16557}, {\"product_name\": \"Bag of Organic Bananas\", \"count\": 13362}, {\"product_name\": \"Organic Strawberries\", \"count\": 8603}, {\"product_name\": \"Organic Baby Spinach\", \"count\": 8055}, {\"product_name\": \"Organic Avocado\", \"count\": 6226}, {\"product_name\": \"Organic Hass Avocado\", \"count\": 6042}, {\"product_name\": \"Large Lemon\", \"count\": 5923}, {\"product_name\": \"Strawberries\", \"count\": 4786}, {\"product_name\": \"Organic Raspberries\", \"count\": 4279}, {\"product_name\": \"Limes\", \"count\": 4234}]}}, {\"mode\": \"vega-lite\"});\n",
              "</script>"
            ]
          },
          "metadata": {},
          "execution_count": 271
        }
      ]
    },
    {
      "cell_type": "code",
      "source": [
        "reorder_products = reorder_products.toPandas()\n",
        "wordcloud = WordCloud(max_font_size=50).generate(' '.join(reorder_products.product_name))\n",
        "plt.imshow(wordcloud, interpolation='bilinear')\n",
        "plt.axis(\"off\")"
      ],
      "metadata": {
        "colab": {
          "base_uri": "https://localhost:8080/",
          "height": 215
        },
        "id": "cbW5QqNmHEox",
        "outputId": "21537e70-46fa-4f95-e2d8-152a9326f486"
      },
      "execution_count": 272,
      "outputs": [
        {
          "output_type": "execute_result",
          "data": {
            "text/plain": [
              "(-0.5, 399.5, 199.5, -0.5)"
            ]
          },
          "metadata": {},
          "execution_count": 272
        },
        {
          "output_type": "display_data",
          "data": {
            "image/png": "[encoded data removed]",
            "text/plain": [
              "<Figure size 432x288 with 1 Axes>"
            ]
          },
          "metadata": {
            "needs_background": "light"
          }
        }
      ]
    },
    {
      "cell_type": "markdown",
      "source": [
        "# Organize and View Shopping Basket"
      ],
      "metadata": {
        "id": "Bo0adgZgcX04"
      }
    },
    {
      "cell_type": "code",
      "source": [
        "raw_data = order_products_train.join(products, on='product_id')\n",
        "baskets = raw_data.groupBy('order_id').agg(collect_set('product_name').alias('items'))\n",
        "baskets.show(20, False)"
      ],
      "metadata": {
        "colab": {
          "base_uri": "https://localhost:8080/"
        },
        "id": "Bx743SV8cW45",
        "outputId": "6a84400e-39b2-40da-c8f5-05eb6427877a"
      },
      "execution_count": 307,
      "outputs": [
        {
          "output_type": "stream",
          "name": "stdout",
          "text": [
            "+--------+---------------------------------------------------------------------------------------------------------------------------------------------------------------------------------------------------------------------------------------------------------------------------------------------------------------------------------------------------------------------------------------------------------------------------------------------------------------------------------------------------------------------------------------------------------------------------------------------------------------+\n",
            "|order_id|items                                                                                                                                                                                                                                                                                                                                                                                                                                                                                                                                                                                                          |\n",
            "+--------+---------------------------------------------------------------------------------------------------------------------------------------------------------------------------------------------------------------------------------------------------------------------------------------------------------------------------------------------------------------------------------------------------------------------------------------------------------------------------------------------------------------------------------------------------------------------------------------------------------------+\n",
            "|1005754 |[Raisin Bran Crunch Family Size Cereal, 1 Ply Paper Towels, Tarragon Chicken Salad, Organic Avocados, Organic Greek Lowfat Yogurt With Blueberries, Organic 2% Reduced Fat Milk, Yellow Straightneck Squash, Original Baked Whole Grain Wheat Crackers, Oats & Honey Gluten Free Granola, Plus Lotion Facial Tissues, Corn Tortilla Chips, Ultra Soft Toilet Paper]                                                                                                                                                                                                                                            |\n",
            "|1015263 |[Organic Fuji Apple, Hot Kid Toddler Mum-Mum Organic Rice Biscuit Strawberry, Organic Chopped Spinach, Organic Yams, Freeze Dried Mango Slices, Blueberries, Organic Whole Milk, Bag of Organic Bananas, Organic Whole Milk Strawberry Beet Berry Yogurt Pouch, Total 2% All Natural Plain Greek Yogurt, All Natural French Toast Sticks, Multi Grain Waffles, Sweet Potato Littles, Gluten Free Spinach Cakes, Organic Hass Avocado, Honey Bunny Grahams]                                                                                                                                                     |\n",
            "|102952  |[Reduced Fat Milk 2%, Cheddar Bunnies Snack Crackers, Macaroni And Cheese, Organic Whole String Cheese, Hass Avocados, Sesame Bagels, Milk, Reduced Fat, 2% Milkfat, Dark Red Kidney Beans No Salt Added, Banana, Green Peas No Salt Added, Smoked Turkey Breast Slices, Kids Sensible Foods Broccoli Littles, Organic White Cheddar Popcorn, Spicy Hummus, Boomchickapop Sea Salt Popcorn, Sparkling Water Grapefruit, Blackberry Cucumber Sparkling Water, Organic Frosted Flakes Cereal, Strawberries]                                                                                                      |\n",
            "|1061929 |[\"The \"\"World's Best\\\"\" Veggie Burger\", Orange Chicken]                                                                                                                                                                                                                                                                                                                                                                                                                                                                                                                                                        |\n",
            "|1062113 |[Organic Chocolate 1% Milk with DHA Omega-3, Brown Rice Spaghetti Pasta, Banana]                                                                                                                                                                                                                                                                                                                                                                                                                                                                                                                               |\n",
            "|1065406 |[April Fresh Fabric Softener, Scoops! Tortilla Chips, Spanish Rice Pilaf Mix, Mexican Style Taco Shredded Cheese, Pure & Natural Sour Cream, Chunky Salsa Medium, Small Size Flour Tortillas, Organic Sea Salt Roasted Seaweed Snacks, Salsa Con Queso Medium, White Sandwich Bread, Ultra Original Scent Dishwashing Liquid, Classic Burger Rolls 8 Count, 100% Natural Petite Diced Tomatoes, Grade A Large White Eggs]                                                                                                                                                                                      |\n",
            "|106768  |[Chicken Breast Tenders Breaded]                                                                                                                                                                                                                                                                                                                                                                                                                                                                                                                                                                               |\n",
            "|1081542 |[Organic Baby Spinach, Coconut Almond Minis Frozen Dessert Bars, Whole Grain Organic Waffles, Totally Original, Almond Paleo Bread Non GMO Gluten Free, Organic Large Grade A Eggs, Organic Spring Mix, Organic Leek, Classic Creamy Goat Cheese, Sea Salt Pita Chips, Red Onion, Natural Pure Sparkling Water, Organic English Cucumber, Fresh Whole Chicken, Organic Baby Carrots]                                                                                                                                                                                                                           |\n",
            "|1087523 |[Cantaloupe, Fresh Cauliflower, Sliced Prosciutto, Sparkling Water Grapefruit, Organic Coconut Cream]                                                                                                                                                                                                                                                                                                                                                                                                                                                                                                          |\n",
            "|109180  |[Organic Cilantro, Organic Yellow Onion, Country Stand Juice, Medium Pulp, Roma Tomato, Organic 90% Ground Beef, Black Beans Refried Beans, Organic Penne Rigate, Reduced Fat Milk 100% Lactose Free, Potato Yukon Gold Organic, Organic Iceberg Lettuce, Baby Bella Mushroom Whole, Uncured, No Sugar, Hickory Smoked Bacon, Heavy Whipping Cream, Organic Strawberries, Organic Hass Avocado, Jalapeno Peppers, Organic Red Onion]                                                                                                                                                                           |\n",
            "|1092921 |[Organic Roma Tomato, Moroccan Mint Herbal Tea, Organic Yellow Onion, Romaine Hearts, Organic Red Grapes, Apple Honeycrisp Organic, Orange Peel In Dark Chocolate Bar, Half & Half, Crystallized Ginger In Dark Chocolate  Bar, Organic Broccoli Crown, Organic Bosc Pear, Fat Free Skim Milk, Whole Wheat Pearl Couscous, Large Lemon, Large Alfresco Eggs, Organic Ginger Syrup, Organic Butternut Squash]                                                                                                                                                                                                   |\n",
            "|1094379 |[Organic Green Leaf Lettuce, Organic Garlic, Red Vine Tomato, White Onion, Limes, Organic Hass Avocado, Organic Chard Green]                                                                                                                                                                                                                                                                                                                                                                                                                                                                                   |\n",
            "|1101511 |[Organic Cilantro, Garlic, Spinach, Macaroni & Cheese, Large Brown Free Range Eggs Grade A, Ground Bison, 90/10, Corn Chips, The original Pizza Naan Cilantro Pesto, Beefsteak Tomato, Apple Juice, Organic Boneless Skinless Chicken Breast, Banana, Multi Grain Cheerios Cereal, Vegetarian Refried Beans, One Ply Choose A Size Big Roll Paper Towel Rolls, Organic Coconut Oil, Fontina Cheese, The Original Worcestershire Sauce]                                                                                                                                                                         |\n",
            "|1116838 |[Organic Sprouted Honey Wheat Bread with Flaxseed, Romaine Hearts, Organic Diced Tomatoes, Sweet Kale Salad Mix]                                                                                                                                                                                                                                                                                                                                                                                                                                                                                               |\n",
            "|1117727 |[Bunched Cilantro, Small Hass Avocado, Cool Mint® Antiseptic Adult Mouthwash, Baby Spinach, Zucchini Squash, Green Beans, White Beauty Bar, Quart Storage Bags, New England Clam Chowder Soup, 100% Recycled Bathroom Tissue]                                                                                                                                                                                                                                                                                                                                                                                  |\n",
            "|1120738 |[Pineapple Enzyme Facial Cleanser, Collard Greens, Direct Trade El Diablo Dark Roast Whole Bean Coffee, 100% Baby Kale, Lightly Toasted Creamy Almond Butter, Organic Garnet Sweet Potato (Yam), Unsalted Pure Irish Butter, Unrefined Virgin Coconut Oil, Sweet Drops SteviaClear Sweetener, Frozen Organic Wild Blueberries]                                                                                                                                                                                                                                                                                 |\n",
            "|112911  |[Hardwood Smoked Bacon, Ultra Apple Blossom Antibacterial Dish Liquid, 100% Whole Wheat, Juice Beverage, Cold Pressed, Kale Apple Ginger Romaine Spinach Cucumber Celery Parsley Lemon, Cage Free Large Brown Eggs, Dressing, Jersey Sweet Onion, Calorie Free, Squeeze Real Mayonnaise, Organic Tomato Cluster, Large Grapefruit, Chick Peas, Organic Original Hot Oatmeal, Traditional Scottish Style Smoked Salmon, Ocean Mist Liquid Pods, Organic Beef Uncured Hot Dogs, Organic Cottage Cheese, Premium Original Saltine Crackers, Clean Care Mega Rolls Toilet Paper]                                   |\n",
            "|1130364 |[Organic Baby Spinach, Tomatillo, Organic Whipping Cream, Real Pure Acai, Grape White/Green Seedless, Monterey Jack Cheese, Medium Navel Orange, Jalapeno Peppers, Yellow Corn Organic Tortillas, Roasted Turkey Breast, Grade A Pasturized Light Sour Cream]                                                                                                                                                                                                                                                                                                                                                  |\n",
            "|1131395 |[Red Plums, Honeydew Chunks, Lowfat Blueberry Yogurt, Lemon Verbena Hand Soap, Organic Zucchini Spirals, Air Chilled Organic Boneless Skinless Chicken Breasts, Yogurt, Lowfat, Strawberry, Organic Raspberry Lowfat Yogurt, Organic Grade A Large Brown Eggs, Organic Lowfat Yogurt Banana Vanilla, Organic Peach Lowfat Yogurt, Organic Celery Hearts, Flat Parsley, Bunch, Lowfat Vanilla Yogurt, Wild Wonders Gourmet Medley Tomatoes, Watermelon Chunks, Organic White Onions, Organic Lowfat Black Cherry Yogurt, Organic Fresh Basil, Wheat and Gluten Free Snickerdoodle Cookies, Organic Carrot Bunch]|\n",
            "|1131779 |[Natural Artesian Water, Sparkling Water]                                                                                                                                                                                                                                                                                                                                                                                                                                                                                                                                                                      |\n",
            "+--------+---------------------------------------------------------------------------------------------------------------------------------------------------------------------------------------------------------------------------------------------------------------------------------------------------------------------------------------------------------------------------------------------------------------------------------------------------------------------------------------------------------------------------------------------------------------------------------------------------------------+\n",
            "only showing top 20 rows\n",
            "\n"
          ]
        }
      ]
    },
    {
      "cell_type": "code",
      "source": [
        "fpGrowth = FPGrowth(itemsCol=\"items\", minSupport=0.001, minConfidence=0)\n",
        "model = fpGrowth.fit(baskets)"
      ],
      "metadata": {
        "id": "sYwIgflWeXsG"
      },
      "execution_count": 298,
      "outputs": []
    },
    {
      "cell_type": "markdown",
      "source": [
        "# Most Frequent Itemsets"
      ],
      "metadata": {
        "id": "Svu8LH46g4GB"
      }
    },
    {
      "cell_type": "code",
      "source": [
        "# Display frequent itemsets.\n",
        "freq_itemsets = model.freqItemsets\n",
        "freq_itemsets = freq_itemsets.filter(size(freq_itemsets.items) > 2).orderBy('freq', ascending= False).show(20, False)"
      ],
      "metadata": {
        "colab": {
          "base_uri": "https://localhost:8080/"
        },
        "id": "CPl31wDng2Qh",
        "outputId": "3e082fae-1abb-4920-b3b2-04aad5dd2687"
      },
      "execution_count": 317,
      "outputs": [
        {
          "output_type": "stream",
          "name": "stdout",
          "text": [
            "+--------------------------------------------------------------------+----+\n",
            "|items                                                               |freq|\n",
            "+--------------------------------------------------------------------+----+\n",
            "|[Organic Hass Avocado, Organic Strawberries, Bag of Organic Bananas]|710 |\n",
            "|[Organic Raspberries, Organic Strawberries, Bag of Organic Bananas] |649 |\n",
            "|[Organic Baby Spinach, Organic Strawberries, Bag of Organic Bananas]|587 |\n",
            "|[Organic Raspberries, Organic Hass Avocado, Bag of Organic Bananas] |531 |\n",
            "|[Organic Hass Avocado, Organic Baby Spinach, Bag of Organic Bananas]|497 |\n",
            "|[Organic Avocado, Organic Baby Spinach, Banana]                     |484 |\n",
            "|[Organic Avocado, Large Lemon, Banana]                              |477 |\n",
            "|[Limes, Large Lemon, Banana]                                        |452 |\n",
            "|[Organic Cucumber, Organic Strawberries, Bag of Organic Bananas]    |424 |\n",
            "|[Limes, Organic Avocado, Large Lemon]                               |389 |\n",
            "|[Organic Raspberries, Organic Hass Avocado, Organic Strawberries]   |381 |\n",
            "|[Organic Avocado, Organic Strawberries, Banana]                     |379 |\n",
            "|[Organic Baby Spinach, Organic Strawberries, Banana]                |376 |\n",
            "|[Organic Blueberries, Organic Strawberries, Bag of Organic Bananas] |374 |\n",
            "|[Large Lemon, Organic Baby Spinach, Banana]                         |371 |\n",
            "|[Organic Cucumber, Organic Hass Avocado, Bag of Organic Bananas]    |366 |\n",
            "|[Organic Lemon, Organic Hass Avocado, Bag of Organic Bananas]       |353 |\n",
            "|[Limes, Organic Avocado, Banana]                                    |352 |\n",
            "|[Organic Whole Milk, Organic Strawberries, Bag of Organic Bananas]  |339 |\n",
            "|[Organic Avocado, Large Lemon, Organic Baby Spinach]                |334 |\n",
            "+--------------------------------------------------------------------+----+\n",
            "only showing top 20 rows\n",
            "\n"
          ]
        }
      ]
    },
    {
      "cell_type": "code",
      "source": [
        "# Display generated association rules.\n",
        "associationRules = model.associationRules\n",
        "associationRules = (associationRules.withColumnRenamed('antecedent', 'antecedent(if)')\n",
        "                                   .withColumnRenamed('consequent', 'consequent(then)')).orderBy('confidence', ascending=False)\n",
        "associationRules.show(20, False)"
      ],
      "metadata": {
        "colab": {
          "base_uri": "https://localhost:8080/"
        },
        "id": "He8F_YMnhc7U",
        "outputId": "dd183605-3d84-4a13-a9bb-57515291f751"
      },
      "execution_count": 323,
      "outputs": [
        {
          "output_type": "stream",
          "name": "stdout",
          "text": [
            "+------------------------------------------------------------------+------------------------+-------------------+------------------+\n",
            "|antecedent(if)                                                    |consequent(then)        |confidence         |lift              |\n",
            "+------------------------------------------------------------------+------------------------+-------------------+------------------+\n",
            "|[Organic Raspberries, Organic Hass Avocado, Organic Strawberries] |[Bag of Organic Bananas]|0.5984251968503937 |5.072272070642333 |\n",
            "|[Organic Cucumber, Organic Hass Avocado, Organic Strawberries]    |[Bag of Organic Bananas]|0.546875           |4.635330870478036 |\n",
            "|[Organic Kiwi, Organic Hass Avocado]                              |[Bag of Organic Bananas]|0.5459770114942529 |4.627719489738336 |\n",
            "|[Organic Navel Orange, Organic Raspberries]                       |[Bag of Organic Bananas]|0.5412186379928315 |4.587387356098284 |\n",
            "|[Yellow Onions, Strawberries]                                     |[Banana]                |0.5357142857142857 |3.7536332219526702|\n",
            "|[Organic Whole String Cheese, Organic Hass Avocado]               |[Bag of Organic Bananas]|0.5314685314685315 |4.504745125675359 |\n",
            "|[Organic Navel Orange, Organic Hass Avocado]                      |[Bag of Organic Bananas]|0.5283018867924528 |4.477904539027839 |\n",
            "|[Organic Raspberries, Organic Hass Avocado]                       |[Bag of Organic Bananas]|0.521099116781158  |4.416853618458589 |\n",
            "|[Organic D'Anjou Pears, Organic Hass Avocado]                     |[Bag of Organic Bananas]|0.5170454545454546 |4.3824946411792345|\n",
            "|[Organic Unsweetened Almond Milk, Organic Hass Avocado]           |[Bag of Organic Bananas]|0.5141065830721003 |4.357584667849303 |\n",
            "|[Organic Broccoli, Organic Hass Avocado]                          |[Bag of Organic Bananas]|0.5048231511254019 |4.278897986822536 |\n",
            "|[Organic Lemon, Organic Raspberries]                              |[Bag of Organic Bananas]|0.4989106753812636 |4.228783643804924 |\n",
            "|[Organic Hass Avocado, Organic Baby Spinach, Organic Strawberries]|[Bag of Organic Bananas]|0.49393939393939396|4.1866468953096865|\n",
            "|[Organic Fuji Apple, Strawberries]                                |[Banana]                |0.4915254237288136 |3.4440114985599646|\n",
            "|[Honeycrisp Apple, Strawberries]                                  |[Banana]                |0.4868421052631579 |3.4111965069675145|\n",
            "|[Organic Large Extra Fancy Fuji Apple, Organic Hass Avocado]      |[Bag of Organic Bananas]|0.4838709677419355 |4.101306576644161 |\n",
            "|[Organic Gala Apples, Organic Hass Avocado]                       |[Bag of Organic Bananas]|0.4837905236907731 |4.100624730164253 |\n",
            "|[Organic Navel Orange, Organic Strawberries]                      |[Bag of Organic Bananas]|0.4821002386634845 |4.086297817493356 |\n",
            "|[Organic Kiwi, Organic Raspberries]                               |[Bag of Organic Bananas]|0.4792332268370607 |4.061996928944697 |\n",
            "|[Organic Carrot Bunch, Organic Hass Avocado]                      |[Bag of Organic Bananas]|0.47315436241610737|4.010472269913116 |\n",
            "+------------------------------------------------------------------+------------------------+-------------------+------------------+\n",
            "only showing top 20 rows\n",
            "\n"
          ]
        }
      ]
    }
  ]
}